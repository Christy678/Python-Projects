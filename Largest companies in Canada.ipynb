{
 "cells": [
  {
   "cell_type": "code",
   "execution_count": 86,
   "id": "d244468b",
   "metadata": {},
   "outputs": [],
   "source": [
    "import requests\n",
    "from bs4 import BeautifulSoup\n",
    "import pandas as pd"
   ]
  },
  {
   "cell_type": "code",
   "execution_count": 2,
   "id": "57107d30",
   "metadata": {},
   "outputs": [],
   "source": [
    "url = 'https://en.wikipedia.org/wiki/List_of_largest_companies_in_Canada'"
   ]
  },
  {
   "cell_type": "code",
   "execution_count": 6,
   "id": "ef6c2921",
   "metadata": {},
   "outputs": [],
   "source": [
    "response = requests.get(url)"
   ]
  },
  {
   "cell_type": "code",
   "execution_count": 7,
   "id": "87dd08b1",
   "metadata": {},
   "outputs": [],
   "source": [
    "soup = BeautifulSoup(response.text, 'html') \n",
    "print(soup)"
   ]
  },
  {
   "cell_type": "code",
   "execution_count": 81,
   "id": "19793f32",
   "metadata": {},
   "outputs": [],
   "source": [
    "table = soup.find_all('table')[0]"
   ]
  },
  {
   "cell_type": "code",
   "execution_count": 82,
   "id": "00e49811",
   "metadata": {},
   "outputs": [],
   "source": [
    "titles = table.find_all('th')"
   ]
  },
  {
   "cell_type": "code",
   "execution_count": 83,
   "id": "40ce5bb4",
   "metadata": {},
   "outputs": [
    {
     "data": {
      "text/plain": [
       "[<th>Rank\n",
       " </th>,\n",
       " <th>Fortune 500<br/>rank\n",
       " </th>,\n",
       " <th>Name\n",
       " </th>,\n",
       " <th>Industry\n",
       " </th>,\n",
       " <th>Revenue<br/><small>(USD millions)</small>\n",
       " </th>,\n",
       " <th>Profits<br/><small>(USD millions)</small>\n",
       " </th>,\n",
       " <th>Employees\n",
       " </th>,\n",
       " <th>Headquarters\n",
       " </th>]"
      ]
     },
     "execution_count": 83,
     "metadata": {},
     "output_type": "execute_result"
    }
   ],
   "source": [
    "titles"
   ]
  },
  {
   "cell_type": "code",
   "execution_count": 84,
   "id": "7bd9c1e7",
   "metadata": {},
   "outputs": [],
   "source": [
    "world_titles = [title.text.strip() for title in titles] "
   ]
  },
  {
   "cell_type": "code",
   "execution_count": 85,
   "id": "8ee00690",
   "metadata": {},
   "outputs": [
    {
     "data": {
      "text/plain": [
       "['Rank',\n",
       " 'Fortune 500rank',\n",
       " 'Name',\n",
       " 'Industry',\n",
       " 'Revenue(USD millions)',\n",
       " 'Profits(USD millions)',\n",
       " 'Employees',\n",
       " 'Headquarters']"
      ]
     },
     "execution_count": 85,
     "metadata": {},
     "output_type": "execute_result"
    }
   ],
   "source": [
    "world_titles"
   ]
  },
  {
   "cell_type": "code",
   "execution_count": 148,
   "id": "2e2dc384",
   "metadata": {},
   "outputs": [
    {
     "data": {
      "text/html": [
       "<div>\n",
       "<style scoped>\n",
       "    .dataframe tbody tr th:only-of-type {\n",
       "        vertical-align: middle;\n",
       "    }\n",
       "\n",
       "    .dataframe tbody tr th {\n",
       "        vertical-align: top;\n",
       "    }\n",
       "\n",
       "    .dataframe thead th {\n",
       "        text-align: right;\n",
       "    }\n",
       "</style>\n",
       "<table border=\"1\" class=\"dataframe\">\n",
       "  <thead>\n",
       "    <tr style=\"text-align: right;\">\n",
       "      <th></th>\n",
       "      <th>Rank</th>\n",
       "      <th>Fortune 500rank</th>\n",
       "      <th>Name</th>\n",
       "      <th>Industry</th>\n",
       "      <th>Revenue(USD millions)</th>\n",
       "      <th>Profits(USD millions)</th>\n",
       "      <th>Employees</th>\n",
       "      <th>Headquarters</th>\n",
       "    </tr>\n",
       "  </thead>\n",
       "  <tbody>\n",
       "  </tbody>\n",
       "</table>\n",
       "</div>"
      ],
      "text/plain": [
       "Empty DataFrame\n",
       "Columns: [Rank, Fortune 500rank, Name, Industry, Revenue(USD millions), Profits(USD millions), Employees, Headquarters]\n",
       "Index: []"
      ]
     },
     "execution_count": 148,
     "metadata": {},
     "output_type": "execute_result"
    }
   ],
   "source": [
    "df = pd.DataFrame(columns = world_titles)\n",
    "df"
   ]
  },
  {
   "cell_type": "code",
   "execution_count": 149,
   "id": "e2709918",
   "metadata": {},
   "outputs": [],
   "source": [
    "colum_row = table.find_all('tr')"
   ]
  },
  {
   "cell_type": "code",
   "execution_count": 165,
   "id": "9c7e98a6",
   "metadata": {},
   "outputs": [],
   "source": [
    "for row in colum_row[1:]:\n",
    "    row_data = row.find_all('td')\n",
    "    world_rows = [data.text.strip() for data in row_data] \n",
    "    \n",
    "    length = len(df) \n",
    "    df.loc[length] = world_rows"
   ]
  },
  {
   "cell_type": "code",
   "execution_count": 166,
   "id": "556ef00e",
   "metadata": {},
   "outputs": [],
   "source": [
    "df.to_csv(r'C:\\Users\\Carolene\\Desktop\\Desktop\\SQL Project\\Largest companies in Canada.csv', index = False)"
   ]
  },
  {
   "cell_type": "code",
   "execution_count": null,
   "id": "fc1aa4ba",
   "metadata": {},
   "outputs": [],
   "source": []
  }
 ],
 "metadata": {
  "kernelspec": {
   "display_name": "Python 3 (ipykernel)",
   "language": "python",
   "name": "python3"
  },
  "language_info": {
   "codemirror_mode": {
    "name": "ipython",
    "version": 3
   },
   "file_extension": ".py",
   "mimetype": "text/x-python",
   "name": "python",
   "nbconvert_exporter": "python",
   "pygments_lexer": "ipython3",
   "version": "3.11.5"
  }
 },
 "nbformat": 4,
 "nbformat_minor": 5
}
